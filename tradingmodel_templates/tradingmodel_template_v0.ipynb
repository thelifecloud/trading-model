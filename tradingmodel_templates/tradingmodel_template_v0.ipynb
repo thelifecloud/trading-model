{
 "cells": [
  {
   "cell_type": "code",
   "execution_count": 9,
   "id": "e2ee34ad-ddc4-40a4-8e26-c23f1403629f",
   "metadata": {},
   "outputs": [],
   "source": [
    "# import libraries\n",
    "import requests\n",
    "import pandas as pd\n",
    "import matplotlib.pyplot as plt\n",
    "\n",
    "\n",
    "# Inline plots for Jupyter Notebooks\n",
    "%matplotlib inline"
   ]
  },
  {
   "cell_type": "code",
   "execution_count": 13,
   "id": "4fe206cb-706f-4625-b6b1-6b94578478f5",
   "metadata": {},
   "outputs": [],
   "source": [
    "def get_historical_data(coin_id, vs_currency, days):\n",
    "    url = f'https://api.coingecko.com/api/v3/coins/{coin_id}/market_chart'\n",
    "    params = {'vs_currency': vs_currency, 'days': days}\n",
    "    \n",
    "    print(f\"Requesting data for: {coin_id}, Currency: {vs_currency}, Days: {days}\")\n",
    "    \n",
    "    response = requests.get(url, params=params)\n",
    "    if response.status_code == 200:\n",
    "        data = response.json()\n",
    "        df = pd.DataFrame(data['prices'], columns=['timestamp', 'price'])\n",
    "        df['timestamp'] = pd.to_datetime(df['timestamp'], unit='ms')\n",
    "        return df\n",
    "    else:\n",
    "        print(f\"Error fetching data: {response.status_code}\")\n",
    "        print(response.json())  # Print the error response for more detail\n",
    "        return None"
   ]
  },
  {
   "cell_type": "code",
   "execution_count": 15,
   "id": "d2f44b4f-cf44-404d-87a1-7c5bad4fbc78",
   "metadata": {},
   "outputs": [
    {
     "name": "stdout",
     "output_type": "stream",
     "text": [
      "Requesting data for: bitcoin, Currency: usd, Days: 180\n"
     ]
    }
   ],
   "source": [
    "# Fetch historical data\n",
    "data = get_historical_data('bitcoin', 'usd', 180)"
   ]
  },
  {
   "cell_type": "code",
   "execution_count": 17,
   "id": "6c92d0c7-3678-4363-8aea-264c1cea53b0",
   "metadata": {},
   "outputs": [
    {
     "name": "stdout",
     "output_type": "stream",
     "text": [
      "Number of rows in the dataset: 181\n"
     ]
    }
   ],
   "source": [
    "print(f\"Number of rows in the dataset: {len(data)}\")"
   ]
  },
  {
   "cell_type": "code",
   "execution_count": null,
   "id": "1d940219-8117-41e1-b0dc-c7c271a3d5f6",
   "metadata": {},
   "outputs": [],
   "source": []
  }
 ],
 "metadata": {
  "kernelspec": {
   "display_name": "Python 3 (ipykernel)",
   "language": "python",
   "name": "python3"
  },
  "language_info": {
   "codemirror_mode": {
    "name": "ipython",
    "version": 3
   },
   "file_extension": ".py",
   "mimetype": "text/x-python",
   "name": "python",
   "nbconvert_exporter": "python",
   "pygments_lexer": "ipython3",
   "version": "3.12.4"
  }
 },
 "nbformat": 4,
 "nbformat_minor": 5
}
