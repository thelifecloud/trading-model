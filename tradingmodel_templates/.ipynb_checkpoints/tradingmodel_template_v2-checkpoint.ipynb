{
 "cells": [
  {
   "cell_type": "markdown",
   "id": "79472b27-1278-424c-926c-d7d8d0ec550c",
   "metadata": {},
   "source": [
    "## crypto trading model template v2\n",
    "\n",
    "- 1: Data Loading\n",
    "- 2: Feature Engineering\n",
    "- 3: Data Cleaning\n",
    "- 4: Class Balancing\n",
    "- 5: Feature Scaling\n",
    "- 6: Model Training\n",
    "- 7: Model Evaluation\n",
    "- 8: Cross-Validation\n",
    "#### Future Uses\n",
    "- Hyperparameter Tuning\n",
    "    - Add improved searches to optimize model here\n",
    "- Model Comparisons\n",
    "    - Framework is modular for seamless model swapping\n",
    "- Extended Feature Engineering\n",
    "    - Feature Engineering is endless\n",
    "    - As the the model learns, I gain new insights and expand my field knowledge\n",
    "      - This process is progressive and eventually we'll have a whole system build using this template"
   ]
  },
  {
   "cell_type": "markdown",
   "id": "e6fe15bb-4d41-4e1c-9520-738c80afae09",
   "metadata": {},
   "source": [
    "### 1: Data Loading\n",
    "- (get_historical_data): Easily swap out the data source or adjust parameters \n",
    "like coin_id, vs_currency, and days for different datasets."
   ]
  },
  {
   "cell_type": "code",
   "execution_count": 67,
   "id": "2f9c2ca9-80d6-4ec7-86d3-774627a221d8",
   "metadata": {},
   "outputs": [],
   "source": [
    "# Import libraries\n",
    "import requests\n",
    "import pandas as pd\n",
    "import numpy as np\n",
    "import matplotlib.pyplot as plt\n",
    "from io import StringIO\n",
    "from sklearn.preprocessing import StandardScaler\n",
    "from sklearn.model_selection import train_test_split\n",
    "from sklearn.ensemble import RandomForestClassifier\n",
    "from sklearn.metrics import accuracy_score, classification_report, confusion_matrix\n",
    "from imblearn.over_sampling import SMOTE\n",
    "from sklearn.linear_model import LogisticRegression\n",
    "from sklearn.svm import SVC"
   ]
  },
  {
   "cell_type": "markdown",
   "id": "6b0a40fb-ab58-465d-9d7e-20982f0d86a3",
   "metadata": {},
   "source": [
    "#### Automated data pull\n",
    "- Download cryptocurrency data from a default URL and save as a CSV file\n",
    "- Args:\n",
    "    - output_path (str): Path to save the downloaded CSV\n",
    "    - url (str): The URL to fetch the CSV data from (default is Binance BTC/USDT daily data)  \n",
    "- Returns: str: Path to the saved CSV file"
   ]
  },
  {
   "cell_type": "code",
   "execution_count": 5,
   "id": "6a10cbb2-32f2-4034-9142-b886e01ddcaa",
   "metadata": {},
   "outputs": [],
   "source": [
    "# Automated CSV Pull Function\n",
    "def download_crypto_csv(output_path, url=\"https://www.cryptodatadownload.com/cdd/Binance_BTCUSDT_d.csv\"):\n",
    "    try:\n",
    "        print(f\"Downloading data from {url}\")\n",
    "        response = requests.get(url)\n",
    "        response.raise_for_status()\n",
    "        \n",
    "        # Save the CSV content\n",
    "        with open(output_path, 'w') as f:\n",
    "            f.write(response.text)\n",
    "        \n",
    "        print(f\"Data downloaded and saved to {output_path}\")\n",
    "        return output_path\n",
    "    except Exception as e:\n",
    "        print(f\"Error downloading data: {e}\")\n",
    "        return None"
   ]
  },
  {
   "cell_type": "markdown",
   "id": "b6f9a6ef-76c1-4628-aca5-19ae7930da14",
   "metadata": {},
   "source": [
    "#### Data Load\n",
    "- Load cryptocurrency data from CSV file\n",
    "- Args:\n",
    "    - fileopath (str): path to CSV file\n",
    "- Returns:\n",
    "    - pd.DataFrame: data loaded into DataFrame"
   ]
  },
  {
   "cell_type": "code",
   "execution_count": 7,
   "id": "46dd1a12-a4d5-4700-9c03-6a0c8e6d8ba5",
   "metadata": {},
   "outputs": [],
   "source": [
    "# Load Crypto Data from CSV\n",
    "def load_crypto_data(filepath):\n",
    "    try:\n",
    "        # Skip the first row and load the data\n",
    "        df = pd.read_csv(filepath, skiprows=1)\n",
    "        print(f\"Data loaded successfully: {len(df)} rows\")\n",
    "        print(\"Column names:\", df.columns)\n",
    "        return df\n",
    "    except Exception as e:\n",
    "        print(f\"Error loading data: {e}\")\n",
    "        return None"
   ]
  },
  {
   "cell_type": "markdown",
   "id": "63ff4b52-b148-4bb4-8363-a110260fd9f1",
   "metadata": {},
   "source": [
    "### 2: Feature Engineering\n",
    "- (generate_features): Add, remove, or tweak features.\n",
    "- Append more calculations or move them around."
   ]
  },
  {
   "cell_type": "code",
   "execution_count": 9,
   "id": "d9225638-ca4b-441a-a3c0-fca62b26a877",
   "metadata": {},
   "outputs": [],
   "source": [
    "# Calculate the Relative Strength Index (RSI).\n",
    "def rsi(data, window=14):\n",
    "    delta = data['Close'].diff()\n",
    "    gain = (delta.where(delta > 0, 0)).rolling(window=window).mean()\n",
    "    loss = (-delta.where(delta < 0, 0)).rolling(window=window).mean()\n",
    "    rs = gain / loss\n",
    "    return 100 - (100 / (1 + rs))"
   ]
  },
  {
   "cell_type": "code",
   "execution_count": 10,
   "id": "18ffaa07-934c-4af6-99f2-461de49b63ef",
   "metadata": {},
   "outputs": [],
   "source": [
    "# Feature: 50-period Moving Average (SMA)\n",
    "def moving_average(data, window=50):\n",
    "    return data['Close'].rolling(window=window).mean()"
   ]
  },
  {
   "cell_type": "code",
   "execution_count": 11,
   "id": "85b0651d-615b-4502-8ab4-7a79b7fa8834",
   "metadata": {},
   "outputs": [],
   "source": [
    "# Feature: MACD (Moving Average Convergence Divergence)\n",
    "def macd(data, short_window=12, long_window=26, signal_window=9):\n",
    "    short_ema = data['Close'].ewm(span=short_window, min_periods=1).mean()\n",
    "    long_ema = data['Close'].ewm(span=long_window, min_periods=1).mean()\n",
    "    macd_line = short_ema - long_ema\n",
    "    signal_line = macd_line.ewm(span=signal_window, min_periods=1).mean()\n",
    "    return macd_line, signal_line"
   ]
  },
  {
   "cell_type": "code",
   "execution_count": 12,
   "id": "8e9c5ec8-21f5-4b57-9855-d520ca23bf27",
   "metadata": {},
   "outputs": [],
   "source": [
    "# Calculate Bollinger Bands.\n",
    "def bollinger_bands(data, window=20):\n",
    "    sma = data['Close'].rolling(window=window).mean()\n",
    "    std = data['Close'].rolling(window=window).std()\n",
    "    upper_band = sma + (2 * std)\n",
    "    lower_band = sma - (2 * std)\n",
    "    return upper_band, lower_band"
   ]
  },
  {
   "cell_type": "code",
   "execution_count": 13,
   "id": "aaf93d2d-24e6-46d2-80ca-15f9ffb2f60b",
   "metadata": {},
   "outputs": [],
   "source": [
    "# Calculate Average True Range (ATR).\n",
    "def average_true_range(data, window=14):\n",
    "    high_low = data['High'] - data['Low']\n",
    "    high_close = abs(data['High'] - data['Close'].shift())\n",
    "    low_close = abs(data['Low'] - data['Close'].shift())\n",
    "    tr = high_low.combine(high_close, max).combine(low_close, max)\n",
    "    return tr.rolling(window=window).mean()"
   ]
  },
  {
   "cell_type": "markdown",
   "id": "c96a34e9-344e-4575-b24d-9d076e74311e",
   "metadata": {},
   "source": [
    "#### 3: Data Cleaning\n",
    "- (dropna): Handle any future missing data or NaNs, ensures the model doesn't encounter issues when scaling or fitting."
   ]
  },
  {
   "cell_type": "code",
   "execution_count": 15,
   "id": "b05cc31d-1023-436b-a26c-5a12e4c603f3",
   "metadata": {},
   "outputs": [],
   "source": [
    "# Clean the dataset by handling missing values and scaling features.\n",
    "def clean_data(df):\n",
    "    # Drop rows with NaN values for the required features\n",
    "    df.dropna(subset=['RSI', 'MACD', 'MACD_Signal', '50_MA', 'Upper_Band', 'Lower_Band', 'ATR'], inplace=True)\n",
    "\n",
    "    # Scale numerical features (excluding Upper_Band and Lower_Band)\n",
    "    scaler = StandardScaler()\n",
    "    features_to_scale = ['RSI', '50_MA', 'MACD', 'MACD_Signal', 'ATR']\n",
    "    df[features_to_scale] = scaler.fit_transform(df[features_to_scale])\n",
    "\n",
    "    print(f\"Data cleaned and scaled: {len(df)} rows remaining\")\n",
    "    return df"
   ]
  },
  {
   "cell_type": "code",
   "execution_count": 16,
   "id": "5b1af97e-bf4d-447f-b138-b8c9c7effc3f",
   "metadata": {},
   "outputs": [],
   "source": [
    "# Load, process, and clean crypto data.\n",
    "# Args: filepath (str): Path to the CSV file.\n",
    "# Returns: pd.DataFrame: Processed and cleaned data.\n",
    "def prepare_data(filepath):\n",
    "    # Load data\n",
    "    data = load_crypto_data(filepath)\n",
    "    print(\"Data after loading:\", data.head() if data is not None else \"None\")\n",
    "    \n",
    "    if data is not None:\n",
    "        # Ensure 'Close', 'High', and 'Low' are numeric\n",
    "        data['Close'] = pd.to_numeric(data['Close'], errors='coerce')\n",
    "        data['High'] = pd.to_numeric(data['High'], errors='coerce')\n",
    "        data['Low'] = pd.to_numeric(data['Low'], errors='coerce')\n",
    "        \n",
    "        # Generate features\n",
    "        data['RSI'] = rsi(data)\n",
    "        data['50_MA'] = moving_average(data)\n",
    "        data['MACD'], data['MACD_Signal'] = macd(data)\n",
    "        data['Upper_Band'], data['Lower_Band'] = bollinger_bands(data)\n",
    "        data['ATR'] = average_true_range(data)\n",
    "        \n",
    "        print(\"Data before cleaning and scaling:\", data.head())\n",
    "        \n",
    "        # Clean data\n",
    "        prepared_data = clean_data(data)\n",
    "        print(\"Data after cleaning:\", prepared_data.head() if prepared_data is not None else \"None\")\n",
    "        return prepared_data\n",
    "    else:\n",
    "        print(\"Data loading failed.\")\n",
    "        return None"
   ]
  },
  {
   "cell_type": "code",
   "execution_count": null,
   "id": "bbc07543-0600-4fe4-b6e4-1fbdac199e3f",
   "metadata": {},
   "outputs": [],
   "source": []
  },
  {
   "cell_type": "markdown",
   "id": "e318e78b-7f4b-4018-9812-5a998484a479",
   "metadata": {},
   "source": [
    "### TESTDRIVER : Trading Model"
   ]
  },
  {
   "cell_type": "code",
   "execution_count": 18,
   "id": "67b29bfa-b58e-4873-ba6f-5dc8f830756e",
   "metadata": {},
   "outputs": [
    {
     "name": "stdout",
     "output_type": "stream",
     "text": [
      "Downloading data from https://www.cryptodatadownload.com/cdd/Binance_BTCUSDT_d.csv\n",
      "Data downloaded and saved to crypto_data.csv\n",
      "https://www.CryptoDataDownload.com\n",
      "\n",
      "Unix,Date,Symbol,Open,High,Low,Close,Volume BTC,Volume USDT,tradecount\n",
      "\n",
      "1733788800000,2024-12-10,BTCUSDT,97276.48,98270.0,94256.54,96593.0,51708.68933,4988660195.092429,11556189\n",
      "\n",
      "1733702400000,2024-12-09,BTCUSDT,101109.6,101215.93,94150.05,97276.47,53949.11595,5283626995.705648,8445872\n",
      "\n",
      "1733616000000,2024-12-08,BTCUSDT,99831.99,101351.0,98657.7,101109.59,14612.99688,1459576946.402151,2994709\n",
      "\n",
      "Data loaded successfully: 2673 rows\n",
      "Column names: Index(['Unix', 'Date', 'Symbol', 'Open', 'High', 'Low', 'Close', 'Volume BTC',\n",
      "       'Volume USDT', 'tradecount'],\n",
      "      dtype='object')\n",
      "Data after loading:             Unix        Date   Symbol       Open       High       Low  \\\n",
      "0  1733788800000  2024-12-10  BTCUSDT   97276.48   98270.00  94256.54   \n",
      "1  1733702400000  2024-12-09  BTCUSDT  101109.60  101215.93  94150.05   \n",
      "2  1733616000000  2024-12-08  BTCUSDT   99831.99  101351.00  98657.70   \n",
      "3  1733529600000  2024-12-07  BTCUSDT   99740.84  100439.18  98844.00   \n",
      "4  1733443200000  2024-12-06  BTCUSDT   96945.63  101898.99  95981.72   \n",
      "\n",
      "       Close   Volume BTC   Volume USDT  tradecount  \n",
      "0   96593.00  51708.68933  4.988660e+09    11556189  \n",
      "1   97276.47  53949.11595  5.283627e+09     8445872  \n",
      "2  101109.59  14612.99688  1.459577e+09     2994709  \n",
      "3   99831.99  14931.94590  1.487954e+09     2634566  \n",
      "4   99740.84  45049.53310  4.456642e+09     6919102  \n",
      "Data before cleaning and scaling:             Unix        Date   Symbol       Open       High       Low  \\\n",
      "0  1733788800000  2024-12-10  BTCUSDT   97276.48   98270.00  94256.54   \n",
      "1  1733702400000  2024-12-09  BTCUSDT  101109.60  101215.93  94150.05   \n",
      "2  1733616000000  2024-12-08  BTCUSDT   99831.99  101351.00  98657.70   \n",
      "3  1733529600000  2024-12-07  BTCUSDT   99740.84  100439.18  98844.00   \n",
      "4  1733443200000  2024-12-06  BTCUSDT   96945.63  101898.99  95981.72   \n",
      "\n",
      "       Close   Volume BTC   Volume USDT  tradecount  RSI  50_MA        MACD  \\\n",
      "0   96593.00  51708.68933  4.988660e+09    11556189  NaN    NaN    0.000000   \n",
      "1   97276.47  53949.11595  5.283627e+09     8445872  NaN    NaN   15.334263   \n",
      "2  101109.59  14612.99688  1.459577e+09     2994709  NaN    NaN  138.403716   \n",
      "3   99831.99  14931.94590  1.487954e+09     2634566  NaN    NaN  144.858931   \n",
      "4   99740.84  45049.53310  4.456642e+09     6919102  NaN    NaN  141.689885   \n",
      "\n",
      "   MACD_Signal  Upper_Band  Lower_Band  ATR  \n",
      "0     0.000000         NaN         NaN  NaN  \n",
      "1     8.519035         NaN         NaN  NaN  \n",
      "2    61.750462         NaN         NaN  NaN  \n",
      "3    89.903737         NaN         NaN  NaN  \n",
      "4   105.308946         NaN         NaN  NaN  \n",
      "Data cleaned and scaled: 2624 rows remaining\n",
      "Data after cleaning:              Unix        Date   Symbol      Open      High       Low  \\\n",
      "49  1729555200000  2024-10-22  BTCUSDT  67377.50  67836.01  66571.42   \n",
      "50  1729468800000  2024-10-21  BTCUSDT  69032.00  69519.52  66840.67   \n",
      "51  1729382400000  2024-10-20  BTCUSDT  68377.99  69400.00  68100.00   \n",
      "52  1729296000000  2024-10-19  BTCUSDT  68427.99  68693.26  68010.00   \n",
      "53  1729209600000  2024-10-18  BTCUSDT  67421.78  69000.00  67192.36   \n",
      "\n",
      "       Close   Volume BTC   Volume USDT  tradecount       RSI     50_MA  \\\n",
      "49  67426.00  24598.96268  1.654286e+09     3669291 -0.179382  2.955721   \n",
      "50  67377.50  31374.42184  2.130834e+09     3686777  0.061425  2.926559   \n",
      "51  69031.99  12442.47378  8.540824e+08     1563795  0.194461  2.898366   \n",
      "52  68378.00   8193.66737  5.596286e+08     1152428 -0.026584  2.865695   \n",
      "53  68428.00  28725.63500  1.959736e+09     4010969 -0.040018  2.834348   \n",
      "\n",
      "        MACD  MACD_Signal    Upper_Band    Lower_Band       ATR  \n",
      "49 -3.641802    -4.039720  78987.381697  62942.317303  0.852871  \n",
      "50 -3.485326    -3.954357  77146.832043  63483.615957  0.853613  \n",
      "51 -3.218173    -3.830581  76087.668111  63778.232889  0.859517  \n",
      "52 -3.011108    -3.688555  74873.067316  64179.655684  0.853283  \n",
      "53 -2.809605    -3.533083  73606.891524  64702.842476  0.799441  \n",
      "             Unix        Date   Symbol      Open      High       Low  \\\n",
      "49  1729555200000  2024-10-22  BTCUSDT  67377.50  67836.01  66571.42   \n",
      "50  1729468800000  2024-10-21  BTCUSDT  69032.00  69519.52  66840.67   \n",
      "51  1729382400000  2024-10-20  BTCUSDT  68377.99  69400.00  68100.00   \n",
      "52  1729296000000  2024-10-19  BTCUSDT  68427.99  68693.26  68010.00   \n",
      "53  1729209600000  2024-10-18  BTCUSDT  67421.78  69000.00  67192.36   \n",
      "\n",
      "       Close   Volume BTC   Volume USDT  tradecount       RSI     50_MA  \\\n",
      "49  67426.00  24598.96268  1.654286e+09     3669291 -0.179382  2.955721   \n",
      "50  67377.50  31374.42184  2.130834e+09     3686777  0.061425  2.926559   \n",
      "51  69031.99  12442.47378  8.540824e+08     1563795  0.194461  2.898366   \n",
      "52  68378.00   8193.66737  5.596286e+08     1152428 -0.026584  2.865695   \n",
      "53  68428.00  28725.63500  1.959736e+09     4010969 -0.040018  2.834348   \n",
      "\n",
      "        MACD  MACD_Signal    Upper_Band    Lower_Band       ATR  \n",
      "49 -3.641802    -4.039720  78987.381697  62942.317303  0.852871  \n",
      "50 -3.485326    -3.954357  77146.832043  63483.615957  0.853613  \n",
      "51 -3.218173    -3.830581  76087.668111  63778.232889  0.859517  \n",
      "52 -3.011108    -3.688555  74873.067316  64179.655684  0.853283  \n",
      "53 -2.809605    -3.533083  73606.891524  64702.842476  0.799441  \n"
     ]
    }
   ],
   "source": [
    "output_path = \"crypto_data.csv\"\n",
    "downloaded_file = download_crypto_csv(output_path)\n",
    "if downloaded_file:\n",
    "    with open(downloaded_file, 'r') as f:\n",
    "        for i in range(5):\n",
    "            print(f.readline())\n",
    "\n",
    "    prepared_data = prepare_data(downloaded_file)\n",
    "    print(prepared_data.head())"
   ]
  },
  {
   "cell_type": "code",
   "execution_count": 19,
   "id": "5d23fcbc-5db2-442d-8512-b217396beb62",
   "metadata": {},
   "outputs": [
    {
     "name": "stdout",
     "output_type": "stream",
     "text": [
      "count    2624.000000\n",
      "mean        0.000000\n",
      "std         1.000191\n",
      "min        -2.560094\n",
      "25%        -0.681480\n",
      "50%         0.036109\n",
      "75%         0.718039\n",
      "max         2.617374\n",
      "Name: RSI, dtype: float64\n",
      "               MACD   MACD_Signal\n",
      "count  2.624000e+03  2.624000e+03\n",
      "mean  -3.249433e-17 -4.874150e-17\n",
      "std    1.000191e+00  1.000191e+00\n",
      "min   -3.641802e+00 -4.039720e+00\n",
      "25%   -3.155787e-01 -3.138227e-01\n",
      "50%    8.094901e-02  9.231699e-02\n",
      "75%    4.360918e-01  4.331587e-01\n",
      "max    4.474226e+00  4.032209e+00\n",
      "       Close    Upper_Band    Lower_Band\n",
      "49  67426.00  78987.381697  62942.317303\n",
      "50  67377.50  77146.832043  63483.615957\n",
      "51  69031.99  76087.668111  63778.232889\n",
      "52  68378.00  74873.067316  64179.655684\n",
      "53  68428.00  73606.891524  64702.842476\n",
      "count    2.624000e+03\n",
      "mean    -4.332578e-17\n",
      "std      1.000191e+00\n",
      "min     -1.101088e+00\n",
      "25%     -7.967380e-01\n",
      "50%     -3.948591e-01\n",
      "75%      6.804814e-01\n",
      "max      4.129316e+00\n",
      "Name: ATR, dtype: float64\n"
     ]
    }
   ],
   "source": [
    "print(prepared_data['RSI'].describe())\n",
    "print(prepared_data[['MACD', 'MACD_Signal']].describe())\n",
    "print(prepared_data[['Close', 'Upper_Band', 'Lower_Band']].head())\n",
    "print(prepared_data['ATR'].describe())"
   ]
  },
  {
   "cell_type": "markdown",
   "id": "7219b6d2-6efc-4de9-81b5-15adfd5c7056",
   "metadata": {},
   "source": [
    "#### 4: Class Balancing (SMOTE)\n",
    "- Adjust sampling_strategy to explore ways to address class imbalance.\n",
    "- Experiment with other resampling techniques here in the future when time permits\n",
    "    - like NearMiss or RandomUnderSampler."
   ]
  },
  {
   "cell_type": "code",
   "execution_count": 21,
   "id": "d5cd5b1f-4ae5-4e18-b2f7-4fed3bf66b37",
   "metadata": {},
   "outputs": [],
   "source": [
    "# Create target column based on price movement \n",
    "prepared_data.loc[:, 'target'] = (prepared_data['Close'].shift(-1) > prepared_data['Close']).astype(int)"
   ]
  },
  {
   "cell_type": "code",
   "execution_count": 22,
   "id": "8f6fe203-af90-47b6-8a64-fc36d45468bd",
   "metadata": {},
   "outputs": [
    {
     "name": "stdout",
     "output_type": "stream",
     "text": [
      "             Unix        Date   Symbol      Open      High       Low  \\\n",
      "49  1729555200000  2024-10-22  BTCUSDT  67377.50  67836.01  66571.42   \n",
      "50  1729468800000  2024-10-21  BTCUSDT  69032.00  69519.52  66840.67   \n",
      "51  1729382400000  2024-10-20  BTCUSDT  68377.99  69400.00  68100.00   \n",
      "52  1729296000000  2024-10-19  BTCUSDT  68427.99  68693.26  68010.00   \n",
      "53  1729209600000  2024-10-18  BTCUSDT  67421.78  69000.00  67192.36   \n",
      "\n",
      "       Close   Volume BTC   Volume USDT  tradecount       RSI     50_MA  \\\n",
      "49  67426.00  24598.96268  1.654286e+09     3669291 -0.179382  2.955721   \n",
      "50  67377.50  31374.42184  2.130834e+09     3686777  0.061425  2.926559   \n",
      "51  69031.99  12442.47378  8.540824e+08     1563795  0.194461  2.898366   \n",
      "52  68378.00   8193.66737  5.596286e+08     1152428 -0.026584  2.865695   \n",
      "53  68428.00  28725.63500  1.959736e+09     4010969 -0.040018  2.834348   \n",
      "\n",
      "        MACD  MACD_Signal    Upper_Band    Lower_Band       ATR  target  \n",
      "49 -3.641802    -4.039720  78987.381697  62942.317303  0.852871       0  \n",
      "50 -3.485326    -3.954357  77146.832043  63483.615957  0.853613       1  \n",
      "51 -3.218173    -3.830581  76087.668111  63778.232889  0.859517       0  \n",
      "52 -3.011108    -3.688555  74873.067316  64179.655684  0.853283       1  \n",
      "53 -2.809605    -3.533083  73606.891524  64702.842476  0.799441       0  \n",
      "Number of rows in cleaned data: 2624\n"
     ]
    }
   ],
   "source": [
    "# Clean The Data \n",
    "prepared_data = prepared_data.dropna(subset=['RSI', 'MACD', 'MACD_Signal', '50_MA', 'Upper_Band', 'Lower_Band', 'ATR', 'target'])\n",
    "\n",
    "# Assess Cleanliness\n",
    "print(prepared_data.head())\n",
    "print(f\"Number of rows in cleaned data: {len(prepared_data)}\")"
   ]
  },
  {
   "cell_type": "code",
   "execution_count": 23,
   "id": "0ee8ac7e-ebf3-495f-a75e-bef4834236c1",
   "metadata": {},
   "outputs": [],
   "source": [
    "# Split into features (X) and target (y)\n",
    "feature_columns = ['RSI', '50_MA', 'MACD', 'MACD_Signal', 'Upper_Band', 'Lower_Band', 'ATR']\n",
    "X = prepared_data.loc[:, feature_columns]\n",
    "y = prepared_data.loc[:, 'target']\n",
    "\n",
    "# Split into training and testing sets\n",
    "X_train, X_test, y_train, y_test = train_test_split(X, y, test_size=0.2, random_state=42)"
   ]
  },
  {
   "cell_type": "code",
   "execution_count": 24,
   "id": "897f3552-11aa-48fe-bd0f-977b615ed003",
   "metadata": {},
   "outputs": [
    {
     "name": "stdout",
     "output_type": "stream",
     "text": [
      "Class distribution before SMOTE:\n",
      "target\n",
      "0    1064\n",
      "1    1035\n",
      "Name: count, dtype: int64\n"
     ]
    }
   ],
   "source": [
    "# Check class distribution before applying SMOTE\n",
    "# balance is not bad but why not balance it\n",
    "print(\"Class distribution before SMOTE:\")\n",
    "print(y_train.value_counts())"
   ]
  },
  {
   "cell_type": "code",
   "execution_count": 25,
   "id": "6e0def83-c572-4c56-9e83-537e7ede01d2",
   "metadata": {},
   "outputs": [
    {
     "name": "stdout",
     "output_type": "stream",
     "text": [
      "Class distribution after SMOTE: target\n",
      "0    1064\n",
      "1    1064\n",
      "Name: count, dtype: int64\n"
     ]
    }
   ],
   "source": [
    "# Apply SMOTE to perfect the balance in class distribution\n",
    "smote = SMOTE(sampling_strategy='auto', random_state=42)\n",
    "X_train_res, y_train_res = smote.fit_resample(X_train, y_train)\n",
    "\n",
    "# Check the class distribution after applying SMOTE\n",
    "print(f\"Class distribution after SMOTE: {y_train_res.value_counts()}\")"
   ]
  },
  {
   "cell_type": "markdown",
   "id": "8369390e-a824-445b-9b7d-292bbcc20e8b",
   "metadata": {},
   "source": [
    "#### 5: Feature Scaling\n",
    "- Currently using the StandardScaler\n",
    "    - Can swap to a different scaler here when time permits\n",
    "    - something like: MinMaxScaler or RobustScaler\n",
    "- Scaling optimizes model performance by created consistent ranges in the data"
   ]
  },
  {
   "cell_type": "code",
   "execution_count": 27,
   "id": "07381ba2-5bc0-46d2-986f-e3bf6357b359",
   "metadata": {},
   "outputs": [],
   "source": [
    "# Scale the features using StandardScaler\n",
    "scaler = StandardScaler()"
   ]
  },
  {
   "cell_type": "code",
   "execution_count": 28,
   "id": "56e29692-86e8-49be-9d77-d513a9a50c4c",
   "metadata": {},
   "outputs": [],
   "source": [
    "# Fit and transform the training data, and transform the test data\n",
    "X_train_scaled = scaler.fit_transform(X_train_res)\n",
    "X_test_scaled = scaler.transform(X_test)"
   ]
  },
  {
   "cell_type": "code",
   "execution_count": 29,
   "id": "5efce4d6-4fc5-488e-8ce6-bf7004f336d2",
   "metadata": {},
   "outputs": [
    {
     "name": "stdout",
     "output_type": "stream",
     "text": [
      "First 5 rows of scaled training data:\n",
      "[[-1.97516711e+00 -6.78844126e-01 -1.13459160e+00 -1.15949102e+00\n",
      "  -8.02437481e-01 -9.29700474e-01 -6.23654861e-01]\n",
      " [-2.31505712e-01 -2.06418576e-01 -7.17216453e-01 -9.60892056e-01\n",
      "  -3.90854678e-01 -3.19558903e-01 -4.97477272e-02]\n",
      " [-6.30403376e-02  1.86955887e-01  3.51155892e-01  4.44809992e-01\n",
      "   1.24387218e-01  3.91861394e-01 -5.21574927e-01]\n",
      " [-4.48721412e-01 -4.43290228e-01 -2.91756867e-02  1.21825513e-03\n",
      "  -4.90599264e-01 -3.61347001e-01 -8.22236081e-01]\n",
      " [ 2.13835666e+00  2.87129688e-02  7.74643632e-01  4.97630726e-01\n",
      "   7.45886435e-02  9.21440340e-02 -4.41053238e-01]]\n"
     ]
    }
   ],
   "source": [
    "# Verify the scaled data\n",
    "print(\"First 5 rows of scaled training data:\")\n",
    "print(X_train_scaled[:5])"
   ]
  },
  {
   "cell_type": "markdown",
   "id": "1460bd5d-75d1-4179-a705-37cf4245f1b1",
   "metadata": {},
   "source": [
    "#### 6: Model Training\n",
    "- Select a model and train it\n",
    "- Default model : (RandomForestClassifier)"
   ]
  },
  {
   "cell_type": "code",
   "execution_count": 31,
   "id": "a2757abd-61fb-44b6-b157-e0151fc163c6",
   "metadata": {},
   "outputs": [],
   "source": [
    "# Dynamic Model Selection allows swapping models in an out for performance comparisons\n",
    "# args: #  model_name (str): The name of the model to use (e.g., \"random_forest\").\n",
    "        # X_train (np.array): Scaled training features.\n",
    "        # y_train (np.array): Training target labels.\n",
    "        # X_test (np.array): Scaled testing features.\n",
    "# Returns:\n",
    "        # model: Trained model instance.\n",
    "        # y_pred: Predictions on the test set.\n",
    "def train_model(model_name, X_train, y_train, X_test):\n",
    "    # Define supported models\n",
    "    models = {\n",
    "        \"random_forest\": RandomForestClassifier(random_state=42),\n",
    "        \"logistic_regression\": LogisticRegression(random_state=42),\n",
    "        \"svm\": SVC(random_state=42),\n",
    "    }\n",
    "    \n",
    "    # Validate model_name\n",
    "    if model_name not in models:\n",
    "        raise ValueError(f\"Model '{model_name}' is not supported.\")\n",
    "    \n",
    "    # Get the selected model\n",
    "    model = models[model_name]\n",
    "    \n",
    "    # Train the model\n",
    "    model.fit(X_train, y_train)\n",
    "    print(f\"'{model_name}' training complete.\")\n",
    "    \n",
    "    # Make predictions\n",
    "    y_pred = model.predict(X_test)\n",
    "    print(f\"First 5 predictions for '{model_name}': {y_pred[:5]}\")\n",
    "    \n",
    "    return model, y_pred\n"
   ]
  },
  {
   "cell_type": "code",
   "execution_count": 32,
   "id": "e3adca1f-89af-4450-a10e-3c0fbebb64d8",
   "metadata": {},
   "outputs": [
    {
     "name": "stdout",
     "output_type": "stream",
     "text": [
      "(2128, 7) (2128,)\n"
     ]
    }
   ],
   "source": [
    "print(X_train_scaled.shape, y_train_res.shape)  # Ensure they match : allll goood"
   ]
  },
  {
   "cell_type": "code",
   "execution_count": 33,
   "id": "6ad9b1fb-37cf-4b7f-b4a6-92829b899ee6",
   "metadata": {},
   "outputs": [
    {
     "name": "stdout",
     "output_type": "stream",
     "text": [
      "Direct training successful. First 5 predictions: [0 0 0 1 1]\n"
     ]
    }
   ],
   "source": [
    "from sklearn.ensemble import RandomForestClassifier\n",
    "\n",
    "model = RandomForestClassifier(random_state=42)\n",
    "model.fit(X_train_scaled, y_train_res)  # Train the model\n",
    "y_pred = model.predict(X_test_scaled)  # Make predictions\n",
    "print(\"Direct training successful. First 5 predictions:\", y_pred[:5])\n"
   ]
  },
  {
   "cell_type": "code",
   "execution_count": 34,
   "id": "4e36a52d-d6fa-425e-b37c-62bc1398011e",
   "metadata": {},
   "outputs": [
    {
     "name": "stdout",
     "output_type": "stream",
     "text": [
      "'random_forest' training complete.\n",
      "First 5 predictions for 'random_forest': [0 0 0 1 1]\n"
     ]
    }
   ],
   "source": [
    "model_name = \"random_forest\"  # Try other models like \"logistic_regression\" or \"svm\"\n",
    "model, y_pred = train_model(model_name, X_train_scaled, y_train_res, X_test_scaled)\n"
   ]
  },
  {
   "cell_type": "markdown",
   "id": "69842f00-b458-44c5-80ce-8154d2d4e022",
   "metadata": {},
   "source": [
    "#### 7: Model Evaluation\n",
    "- Accuracy, classification report, confusion matrix, and ROC curve.\n",
    "- Implement additional/other metrics here\n",
    "    - perhaps precision-recall curve or F1 score analysis"
   ]
  },
  {
   "cell_type": "code",
   "execution_count": 36,
   "id": "032691dc-f8d2-4118-86a0-4181b5472506",
   "metadata": {},
   "outputs": [
    {
     "name": "stdout",
     "output_type": "stream",
     "text": [
      "Accuracy: 0.4705\n",
      "\n",
      "Classification Report:\n",
      "              precision    recall  f1-score   support\n",
      "\n",
      "           0       0.52      0.48      0.49       286\n",
      "           1       0.43      0.46      0.44       239\n",
      "\n",
      "    accuracy                           0.47       525\n",
      "   macro avg       0.47      0.47      0.47       525\n",
      "weighted avg       0.47      0.47      0.47       525\n",
      "\n",
      "\n",
      "Confusion Matrix:\n",
      "[[136 150]\n",
      " [128 111]]\n"
     ]
    }
   ],
   "source": [
    "# Accuracy, Classification, Confusion.\n",
    "accuracy = accuracy_score(y_test, y_pred)\n",
    "print(f\"Accuracy: {accuracy:.4f}\")\n",
    "\n",
    "print(\"\\nClassification Report:\")\n",
    "print(classification_report(y_test, y_pred))\n",
    "\n",
    "print(\"\\nConfusion Matrix:\")\n",
    "print(confusion_matrix(y_test, y_pred))"
   ]
  },
  {
   "cell_type": "markdown",
   "id": "71767f5d-dd67-4b14-b496-97b6335978f9",
   "metadata": {},
   "source": [
    "#### 8: Cross-Validation\n",
    "- Get an accurate view of model performance across multiple folds to reduce overfitting and signal noise"
   ]
  },
  {
   "cell_type": "code",
   "execution_count": null,
   "id": "6358a2c8-d952-4840-97d6-192167fcce45",
   "metadata": {},
   "outputs": [],
   "source": []
  }
 ],
 "metadata": {
  "kernelspec": {
   "display_name": "Python 3 (ipykernel)",
   "language": "python",
   "name": "python3"
  },
  "language_info": {
   "codemirror_mode": {
    "name": "ipython",
    "version": 3
   },
   "file_extension": ".py",
   "mimetype": "text/x-python",
   "name": "python",
   "nbconvert_exporter": "python",
   "pygments_lexer": "ipython3",
   "version": "3.12.4"
  }
 },
 "nbformat": 4,
 "nbformat_minor": 5
}
