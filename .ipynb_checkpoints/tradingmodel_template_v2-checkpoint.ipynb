{
 "cells": [
  {
   "cell_type": "markdown",
   "id": "79472b27-1278-424c-926c-d7d8d0ec550c",
   "metadata": {},
   "source": [
    "## crypto trading model template v1\n",
    "- 1: Data Loading\n",
    "- 2: Feature Engineering\n",
    "- 3: Data Cleaning\n",
    "- 4: Class Balancing\n",
    "- 5: Feature Scaling\n",
    "- 6: Model Training\n",
    "- 7: Model Evaluation\n",
    "- 8: Cross-Validation\n",
    "#### Future Uses\n",
    "- Hyperparameter Tuning\n",
    "    - Add improved searches to optimize model here\n",
    "- Model Comparisons\n",
    "    - Framework is modular for seamless model swapping\n",
    "- Extended Feature Engineering\n",
    "    - Feature Engineering is endless\n",
    "    - As the the model learns, I gain new insights and expand my field knowledge\n",
    "      - This process is progressive and eventually we'll have a whole system build using this template"
   ]
  },
  {
   "cell_type": "markdown",
   "id": "e6fe15bb-4d41-4e1c-9520-738c80afae09",
   "metadata": {},
   "source": [
    "### 1: Data Loading\n",
    "- (get_historical_data): Easily swap out the data source or adjust parameters \n",
    "like coin_id, vs_currency, and days for different datasets."
   ]
  },
  {
   "cell_type": "code",
   "execution_count": 443,
   "id": "2f9c2ca9-80d6-4ec7-86d3-774627a221d8",
   "metadata": {},
   "outputs": [],
   "source": [
    "# Import libraries\n",
    "import requests\n",
    "import pandas as pd\n",
    "import numpy as np\n",
    "import matplotlib.pyplot as plt\n",
    "from io import StringIO\n",
    "from sklearn.preprocessing import StandardScaler\n",
    "from sklearn.model_selection import train_test_split\n",
    "from sklearn.ensemble import RandomForestClassifier\n",
    "from sklearn.metrics import accuracy_score, classification_report, confusion_matrix\n",
    "from imblearn.over_sampling import SMOTE\n",
    "from sklearn.linear_model import LogisticRegression\n",
    "from sklearn.svm import SVC"
   ]
  },
  {
   "cell_type": "markdown",
   "id": "6b0a40fb-ab58-465d-9d7e-20982f0d86a3",
   "metadata": {},
   "source": [
    "#### Automated data pull\n",
    "- Download cryptocurrency data from a default URL and save as a CSV file\n",
    "- Args:\n",
    "    - output_path (str): Path to save the downloaded CSV\n",
    "    - url (str): The URL to fetch the CSV data from (default is Binance BTC/USDT daily data)  \n",
    "- Returns: str: Path to the saved CSV file"
   ]
  },
  {
   "cell_type": "code",
   "execution_count": 328,
   "id": "6a10cbb2-32f2-4034-9142-b886e01ddcaa",
   "metadata": {},
   "outputs": [],
   "source": [
    "# Automated CSV Pull Function\n",
    "def download_crypto_csv(output_path, url=\"https://www.cryptodatadownload.com/cdd/Binance_BTCUSDT_d.csv\"):\n",
    "    try:\n",
    "        print(f\"Downloading data from {url}\")\n",
    "        response = requests.get(url)\n",
    "        response.raise_for_status()\n",
    "        \n",
    "        # Save the CSV content\n",
    "        with open(output_path, 'w') as f:\n",
    "            f.write(response.text)\n",
    "        \n",
    "        print(f\"Data downloaded and saved to {output_path}\")\n",
    "        return output_path\n",
    "    except Exception as e:\n",
    "        print(f\"Error downloading data: {e}\")\n",
    "        return None"
   ]
  },
  {
   "cell_type": "markdown",
   "id": "b6f9a6ef-76c1-4628-aca5-19ae7930da14",
   "metadata": {},
   "source": [
    "#### Data Load\n",
    "- Load cryptocurrency data from CSV file\n",
    "- Args:\n",
    "    - fileopath (str): path to CSV file\n",
    "- Returns:\n",
    "    - pd.DataFrame: data loaded into DataFrame"
   ]
  },
  {
   "cell_type": "code",
   "execution_count": 331,
   "id": "46dd1a12-a4d5-4700-9c03-6a0c8e6d8ba5",
   "metadata": {},
   "outputs": [],
   "source": [
    "# Load Crypto Data from CSV\n",
    "def load_crypto_data(filepath):\n",
    "    try:\n",
    "        # Skip the first row and load the data\n",
    "        df = pd.read_csv(filepath, skiprows=1)\n",
    "        print(f\"Data loaded successfully: {len(df)} rows\")\n",
    "        print(\"Column names:\", df.columns)\n",
    "        return df\n",
    "    except Exception as e:\n",
    "        print(f\"Error loading data: {e}\")\n",
    "        return None"
   ]
  },
  {
   "cell_type": "markdown",
   "id": "63ff4b52-b148-4bb4-8363-a110260fd9f1",
   "metadata": {},
   "source": [
    "### 2: Feature Engineering\n",
    "- (generate_features): Add, remove, or tweak features.\n",
    "- Append more calculations or move them around."
   ]
  },
  {
   "cell_type": "code",
   "execution_count": 334,
   "id": "d9225638-ca4b-441a-a3c0-fca62b26a877",
   "metadata": {},
   "outputs": [],
   "source": [
    "# Calculate the Relative Strength Index (RSI).\n",
    "def rsi(data, window=14):\n",
    "    delta = data['Close'].diff()\n",
    "    gain = (delta.where(delta > 0, 0)).rolling(window=window).mean()\n",
    "    loss = (-delta.where(delta < 0, 0)).rolling(window=window).mean()\n",
    "    rs = gain / loss\n",
    "    return 100 - (100 / (1 + rs))"
   ]
  },
  {
   "cell_type": "code",
   "execution_count": 336,
   "id": "18ffaa07-934c-4af6-99f2-461de49b63ef",
   "metadata": {},
   "outputs": [],
   "source": [
    "# Feature: 50-period Moving Average (SMA)\n",
    "def moving_average(data, window=50):\n",
    "    return data['Close'].rolling(window=window).mean()"
   ]
  },
  {
   "cell_type": "code",
   "execution_count": 338,
   "id": "85b0651d-615b-4502-8ab4-7a79b7fa8834",
   "metadata": {},
   "outputs": [],
   "source": [
    "# Feature: MACD (Moving Average Convergence Divergence)\n",
    "def macd(data, short_window=12, long_window=26, signal_window=9):\n",
    "    short_ema = data['Close'].ewm(span=short_window, min_periods=1).mean()\n",
    "    long_ema = data['Close'].ewm(span=long_window, min_periods=1).mean()\n",
    "    macd_line = short_ema - long_ema\n",
    "    signal_line = macd_line.ewm(span=signal_window, min_periods=1).mean()\n",
    "    return macd_line, signal_line"
   ]
  },
  {
   "cell_type": "code",
   "execution_count": 340,
   "id": "8e9c5ec8-21f5-4b57-9855-d520ca23bf27",
   "metadata": {},
   "outputs": [],
   "source": [
    "# Calculate Bollinger Bands.\n",
    "def bollinger_bands(data, window=20):\n",
    "    sma = data['Close'].rolling(window=window).mean()\n",
    "    std = data['Close'].rolling(window=window).std()\n",
    "    upper_band = sma + (2 * std)\n",
    "    lower_band = sma - (2 * std)\n",
    "    return upper_band, lower_band"
   ]
  },
  {
   "cell_type": "code",
   "execution_count": 342,
   "id": "aaf93d2d-24e6-46d2-80ca-15f9ffb2f60b",
   "metadata": {},
   "outputs": [],
   "source": [
    "# Calculate Average True Range (ATR).\n",
    "def average_true_range(data, window=14):\n",
    "    high_low = data['High'] - data['Low']\n",
    "    high_close = abs(data['High'] - data['Close'].shift())\n",
    "    low_close = abs(data['Low'] - data['Close'].shift())\n",
    "    tr = high_low.combine(high_close, max).combine(low_close, max)\n",
    "    return tr.rolling(window=window).mean()"
   ]
  },
  {
   "cell_type": "markdown",
   "id": "c96a34e9-344e-4575-b24d-9d076e74311e",
   "metadata": {},
   "source": [
    "#### 3: Data Cleaning\n",
    "- (dropna): Handle any future missing data or NaNs, ensures the model doesn't encounter issues when scaling or fitting."
   ]
  },
  {
   "cell_type": "code",
   "execution_count": 357,
   "id": "b05cc31d-1023-436b-a26c-5a12e4c603f3",
   "metadata": {},
   "outputs": [],
   "source": [
    "# Clean the dataset by handling missing values and scaling features.\n",
    "def clean_data(df):\n",
    "    # Drop rows with NaN values for the required features\n",
    "    df.dropna(subset=['RSI', 'MACD', 'MACD_Signal', '50_MA', 'Upper_Band', 'Lower_Band', 'ATR'], inplace=True)\n",
    "\n",
    "    # Scale numerical features (excluding Upper_Band and Lower_Band)\n",
    "    scaler = StandardScaler()\n",
    "    features_to_scale = ['RSI', '50_MA', 'MACD', 'MACD_Signal', 'ATR']\n",
    "    df[features_to_scale] = scaler.fit_transform(df[features_to_scale])\n",
    "\n",
    "    print(f\"Data cleaned and scaled: {len(df)} rows remaining\")\n",
    "    return df"
   ]
  },
  {
   "cell_type": "code",
   "execution_count": 359,
   "id": "5b1af97e-bf4d-447f-b138-b8c9c7effc3f",
   "metadata": {},
   "outputs": [],
   "source": [
    "# Load, process, and clean crypto data.\n",
    "# Args: filepath (str): Path to the CSV file.\n",
    "# Returns: pd.DataFrame: Processed and cleaned data.\n",
    "def prepare_data(filepath):\n",
    "    # Load data\n",
    "    data = load_crypto_data(filepath)\n",
    "    print(\"Data after loading:\", data.head() if data is not None else \"None\")\n",
    "    \n",
    "    if data is not None:\n",
    "        # Ensure 'Close', 'High', and 'Low' are numeric\n",
    "        data['Close'] = pd.to_numeric(data['Close'], errors='coerce')\n",
    "        data['High'] = pd.to_numeric(data['High'], errors='coerce')\n",
    "        data['Low'] = pd.to_numeric(data['Low'], errors='coerce')\n",
    "        \n",
    "        # Generate features\n",
    "        data['RSI'] = rsi(data)\n",
    "        data['50_MA'] = moving_average(data)\n",
    "        data['MACD'], data['MACD_Signal'] = macd(data)\n",
    "        data['Upper_Band'], data['Lower_Band'] = bollinger_bands(data)\n",
    "        data['ATR'] = average_true_range(data)\n",
    "        \n",
    "        print(\"Data before cleaning and scaling:\", data.head())\n",
    "        \n",
    "        # Clean data\n",
    "        prepared_data = clean_data(data)\n",
    "        print(\"Data after cleaning:\", prepared_data.head() if prepared_data is not None else \"None\")\n",
    "        return prepared_data\n",
    "    else:\n",
    "        print(\"Data loading failed.\")\n",
    "        return None"
   ]
  },
  {
   "cell_type": "code",
   "execution_count": null,
   "id": "bbc07543-0600-4fe4-b6e4-1fbdac199e3f",
   "metadata": {},
   "outputs": [],
   "source": []
  },
  {
   "cell_type": "markdown",
   "id": "e318e78b-7f4b-4018-9812-5a998484a479",
   "metadata": {},
   "source": [
    "### TESTDRIVER : Trading Model"
   ]
  },
  {
   "cell_type": "code",
   "execution_count": 363,
   "id": "67b29bfa-b58e-4873-ba6f-5dc8f830756e",
   "metadata": {},
   "outputs": [
    {
     "name": "stdout",
     "output_type": "stream",
     "text": [
      "Downloading data from https://www.cryptodatadownload.com/cdd/Binance_BTCUSDT_d.csv\n",
      "Data downloaded and saved to crypto_data.csv\n",
      "https://www.CryptoDataDownload.com\n",
      "\n",
      "Unix,Date,Symbol,Open,High,Low,Close,Volume BTC,Volume USDT,tradecount\n",
      "\n",
      "1733702400000,2024-12-09,BTCUSDT,101109.6,101215.93,94150.05,97276.47,53949.11595,5283626995.705648,8445872\n",
      "\n",
      "1733616000000,2024-12-08,BTCUSDT,99831.99,101351.0,98657.7,101109.59,14612.99688,1459576946.402151,2994709\n",
      "\n",
      "1733529600000,2024-12-07,BTCUSDT,99740.84,100439.18,98844.0,99831.99,14931.9459,1487953846.838546,2634566\n",
      "\n",
      "Data loaded successfully: 2672 rows\n",
      "Column names: Index(['Unix', 'Date', 'Symbol', 'Open', 'High', 'Low', 'Close', 'Volume BTC',\n",
      "       'Volume USDT', 'tradecount'],\n",
      "      dtype='object')\n",
      "Data after loading:             Unix        Date   Symbol       Open       High       Low  \\\n",
      "0  1733702400000  2024-12-09  BTCUSDT  101109.60  101215.93  94150.05   \n",
      "1  1733616000000  2024-12-08  BTCUSDT   99831.99  101351.00  98657.70   \n",
      "2  1733529600000  2024-12-07  BTCUSDT   99740.84  100439.18  98844.00   \n",
      "3  1733443200000  2024-12-06  BTCUSDT   96945.63  101898.99  95981.72   \n",
      "4  1733356800000  2024-12-05  BTCUSDT   98587.32  104088.00  90500.00   \n",
      "\n",
      "       Close     Volume BTC   Volume USDT  tradecount  \n",
      "0   97276.47   53949.115950  5.283627e+09     8445872  \n",
      "1  101109.59   14612.996880  1.459577e+09     2994709  \n",
      "2   99831.99   14931.945900  1.487954e+09     2634566  \n",
      "3   99740.84   45049.533100  4.456642e+09     6919102  \n",
      "4   96945.63  109921.729662  1.104800e+10    12012364  \n",
      "Data before cleaning and scaling:             Unix        Date   Symbol       Open       High       Low  \\\n",
      "0  1733702400000  2024-12-09  BTCUSDT  101109.60  101215.93  94150.05   \n",
      "1  1733616000000  2024-12-08  BTCUSDT   99831.99  101351.00  98657.70   \n",
      "2  1733529600000  2024-12-07  BTCUSDT   99740.84  100439.18  98844.00   \n",
      "3  1733443200000  2024-12-06  BTCUSDT   96945.63  101898.99  95981.72   \n",
      "4  1733356800000  2024-12-05  BTCUSDT   98587.32  104088.00  90500.00   \n",
      "\n",
      "       Close     Volume BTC   Volume USDT  tradecount  RSI  50_MA       MACD  \\\n",
      "0   97276.47   53949.115950  5.283627e+09     8445872  NaN    NaN   0.000000   \n",
      "1  101109.59   14612.996880  1.459577e+09     2994709  NaN    NaN  85.999487   \n",
      "2   99831.99   14931.945900  1.487954e+09     2634566  NaN    NaN  69.962117   \n",
      "3   99740.84   45049.533100  4.456642e+09     6919102  NaN    NaN  57.662477   \n",
      "4   96945.63  109921.729662  1.104800e+10    12012364  NaN    NaN -61.462743   \n",
      "\n",
      "   MACD_Signal  Upper_Band  Lower_Band  ATR  \n",
      "0     0.000000         NaN         NaN  NaN  \n",
      "1    47.777493         NaN         NaN  NaN  \n",
      "2    56.869552         NaN         NaN  NaN  \n",
      "3    57.138158         NaN         NaN  NaN  \n",
      "4    21.857071         NaN         NaN  NaN  \n",
      "Data cleaned and scaled: 2623 rows remaining\n",
      "Data after cleaning:              Unix        Date   Symbol      Open      High       Low  \\\n",
      "49  1729468800000  2024-10-21  BTCUSDT  69032.00  69519.52  66840.67   \n",
      "50  1729382400000  2024-10-20  BTCUSDT  68377.99  69400.00  68100.00   \n",
      "51  1729296000000  2024-10-19  BTCUSDT  68427.99  68693.26  68010.00   \n",
      "52  1729209600000  2024-10-18  BTCUSDT  67421.78  69000.00  67192.36   \n",
      "53  1729123200000  2024-10-17  BTCUSDT  67620.00  67939.40  66666.00   \n",
      "\n",
      "       Close   Volume BTC   Volume USDT  tradecount       RSI     50_MA  \\\n",
      "49  67377.50  31374.42184  2.130834e+09     3686777  0.061345  2.932015   \n",
      "50  69031.99  12442.47378  8.540824e+08     1563795  0.194357  2.903780   \n",
      "51  68378.00   8193.66737  5.596286e+08     1152428 -0.026648  2.871060   \n",
      "52  68428.00  28725.63500  1.959736e+09     4010969 -0.040079  2.839668   \n",
      "53  67421.78  25328.22861  1.702164e+09     3981960 -0.352440  2.807360   \n",
      "\n",
      "        MACD  MACD_Signal    Upper_Band    Lower_Band       ATR  \n",
      "49 -3.467932    -3.935634  77146.832043  63483.615957  0.853894  \n",
      "50 -3.201718    -3.812754  76087.668111  63778.232889  0.859798  \n",
      "51 -2.995647    -3.671614  74873.067316  64179.655684  0.853564  \n",
      "52 -2.795103    -3.517018  73606.891524  64702.842476  0.799725  \n",
      "53 -2.667257    -3.366766  72076.662039  65418.050961  0.722489  \n",
      "             Unix        Date   Symbol      Open      High       Low  \\\n",
      "49  1729468800000  2024-10-21  BTCUSDT  69032.00  69519.52  66840.67   \n",
      "50  1729382400000  2024-10-20  BTCUSDT  68377.99  69400.00  68100.00   \n",
      "51  1729296000000  2024-10-19  BTCUSDT  68427.99  68693.26  68010.00   \n",
      "52  1729209600000  2024-10-18  BTCUSDT  67421.78  69000.00  67192.36   \n",
      "53  1729123200000  2024-10-17  BTCUSDT  67620.00  67939.40  66666.00   \n",
      "\n",
      "       Close   Volume BTC   Volume USDT  tradecount       RSI     50_MA  \\\n",
      "49  67377.50  31374.42184  2.130834e+09     3686777  0.061345  2.932015   \n",
      "50  69031.99  12442.47378  8.540824e+08     1563795  0.194357  2.903780   \n",
      "51  68378.00   8193.66737  5.596286e+08     1152428 -0.026648  2.871060   \n",
      "52  68428.00  28725.63500  1.959736e+09     4010969 -0.040079  2.839668   \n",
      "53  67421.78  25328.22861  1.702164e+09     3981960 -0.352440  2.807360   \n",
      "\n",
      "        MACD  MACD_Signal    Upper_Band    Lower_Band       ATR  \n",
      "49 -3.467932    -3.935634  77146.832043  63483.615957  0.853894  \n",
      "50 -3.201718    -3.812754  76087.668111  63778.232889  0.859798  \n",
      "51 -2.995647    -3.671614  74873.067316  64179.655684  0.853564  \n",
      "52 -2.795103    -3.517018  73606.891524  64702.842476  0.799725  \n",
      "53 -2.667257    -3.366766  72076.662039  65418.050961  0.722489  \n"
     ]
    }
   ],
   "source": [
    "output_path = \"crypto_data.csv\"\n",
    "downloaded_file = download_crypto_csv(output_path)\n",
    "if downloaded_file:\n",
    "    with open(downloaded_file, 'r') as f:\n",
    "        for i in range(5):\n",
    "            print(f.readline())\n",
    "\n",
    "    prepared_data = prepare_data(downloaded_file)\n",
    "    print(prepared_data.head())"
   ]
  },
  {
   "cell_type": "code",
   "execution_count": 365,
   "id": "5d23fcbc-5db2-442d-8512-b217396beb62",
   "metadata": {},
   "outputs": [
    {
     "name": "stdout",
     "output_type": "stream",
     "text": [
      "count    2.623000e+03\n",
      "mean     8.668459e-17\n",
      "std      1.000191e+00\n",
      "min     -2.559690e+00\n",
      "25%     -6.815060e-01\n",
      "50%      3.796224e-02\n",
      "75%      7.179793e-01\n",
      "max      2.616823e+00\n",
      "Name: RSI, dtype: float64\n",
      "               MACD   MACD_Signal\n",
      "count  2.623000e+03  2.623000e+03\n",
      "mean  -2.167115e-17 -3.250672e-17\n",
      "std    1.000191e+00  1.000191e+00\n",
      "min   -3.614405e+00 -3.935634e+00\n",
      "25%   -3.174013e-01 -3.160748e-01\n",
      "50%    7.978049e-02  9.086910e-02\n",
      "75%    4.360468e-01  4.329307e-01\n",
      "max    4.484965e+00  4.044815e+00\n",
      "       Close    Upper_Band    Lower_Band\n",
      "49  67377.50  77146.832043  63483.615957\n",
      "50  69031.99  76087.668111  63778.232889\n",
      "51  68378.00  74873.067316  64179.655684\n",
      "52  68428.00  73606.891524  64702.842476\n",
      "53  67421.78  72076.662039  65418.050961\n",
      "count    2.623000e+03\n",
      "mean     4.334229e-17\n",
      "std      1.000191e+00\n",
      "min     -1.100705e+00\n",
      "25%     -7.965450e-01\n",
      "50%     -3.946270e-01\n",
      "75%      6.788972e-01\n",
      "max      4.129427e+00\n",
      "Name: ATR, dtype: float64\n"
     ]
    }
   ],
   "source": [
    "print(prepared_data['RSI'].describe())\n",
    "print(prepared_data[['MACD', 'MACD_Signal']].describe())\n",
    "print(prepared_data[['Close', 'Upper_Band', 'Lower_Band']].head())\n",
    "print(prepared_data['ATR'].describe())"
   ]
  },
  {
   "cell_type": "markdown",
   "id": "7219b6d2-6efc-4de9-81b5-15adfd5c7056",
   "metadata": {},
   "source": [
    "#### 4: Class Balancing (SMOTE)\n",
    "- Adjust sampling_strategy to explore ways to address class imbalance.\n",
    "- Experiment with other resampling techniques here in the future when time permits\n",
    "    - like NearMiss or RandomUnderSampler."
   ]
  },
  {
   "cell_type": "code",
   "execution_count": 369,
   "id": "d5cd5b1f-4ae5-4e18-b2f7-4fed3bf66b37",
   "metadata": {},
   "outputs": [],
   "source": [
    "# Create target column based on price movement \n",
    "prepared_data.loc[:, 'target'] = (prepared_data['Close'].shift(-1) > prepared_data['Close']).astype(int)"
   ]
  },
  {
   "cell_type": "code",
   "execution_count": 373,
   "id": "8f6fe203-af90-47b6-8a64-fc36d45468bd",
   "metadata": {},
   "outputs": [
    {
     "name": "stdout",
     "output_type": "stream",
     "text": [
      "             Unix        Date   Symbol      Open      High       Low  \\\n",
      "49  1729468800000  2024-10-21  BTCUSDT  69032.00  69519.52  66840.67   \n",
      "50  1729382400000  2024-10-20  BTCUSDT  68377.99  69400.00  68100.00   \n",
      "51  1729296000000  2024-10-19  BTCUSDT  68427.99  68693.26  68010.00   \n",
      "52  1729209600000  2024-10-18  BTCUSDT  67421.78  69000.00  67192.36   \n",
      "53  1729123200000  2024-10-17  BTCUSDT  67620.00  67939.40  66666.00   \n",
      "\n",
      "       Close   Volume BTC   Volume USDT  tradecount       RSI     50_MA  \\\n",
      "49  67377.50  31374.42184  2.130834e+09     3686777  0.061345  2.932015   \n",
      "50  69031.99  12442.47378  8.540824e+08     1563795  0.194357  2.903780   \n",
      "51  68378.00   8193.66737  5.596286e+08     1152428 -0.026648  2.871060   \n",
      "52  68428.00  28725.63500  1.959736e+09     4010969 -0.040079  2.839668   \n",
      "53  67421.78  25328.22861  1.702164e+09     3981960 -0.352440  2.807360   \n",
      "\n",
      "        MACD  MACD_Signal    Upper_Band    Lower_Band       ATR  target  \n",
      "49 -3.467932    -3.935634  77146.832043  63483.615957  0.853894       1  \n",
      "50 -3.201718    -3.812754  76087.668111  63778.232889  0.859798       0  \n",
      "51 -2.995647    -3.671614  74873.067316  64179.655684  0.853564       1  \n",
      "52 -2.795103    -3.517018  73606.891524  64702.842476  0.799725       0  \n",
      "53 -2.667257    -3.366766  72076.662039  65418.050961  0.722489       1  \n",
      "Number of rows in cleaned data: 2623\n"
     ]
    }
   ],
   "source": [
    "# Clean The Data \n",
    "prepared_data = prepared_data.dropna(subset=['RSI', 'MACD', 'MACD_Signal', '50_MA', 'Upper_Band', 'Lower_Band', 'ATR', 'target'])\n",
    "\n",
    "# Assess Cleanliness\n",
    "print(prepared_data.head())\n",
    "print(f\"Number of rows in cleaned data: {len(prepared_data)}\")"
   ]
  },
  {
   "cell_type": "code",
   "execution_count": 377,
   "id": "0ee8ac7e-ebf3-495f-a75e-bef4834236c1",
   "metadata": {},
   "outputs": [],
   "source": [
    "# Split into features (X) and target (y)\n",
    "feature_columns = ['RSI', '50_MA', 'MACD', 'MACD_Signal', 'Upper_Band', 'Lower_Band', 'ATR']\n",
    "X = prepared_data.loc[:, feature_columns]\n",
    "y = prepared_data.loc[:, 'target']\n",
    "\n",
    "# Split into training and testing sets\n",
    "X_train, X_test, y_train, y_test = train_test_split(X, y, test_size=0.2, random_state=42)"
   ]
  },
  {
   "cell_type": "code",
   "execution_count": 383,
   "id": "897f3552-11aa-48fe-bd0f-977b615ed003",
   "metadata": {},
   "outputs": [
    {
     "name": "stdout",
     "output_type": "stream",
     "text": [
      "Class distribution before SMOTE:\n",
      "target\n",
      "0    1075\n",
      "1    1023\n",
      "Name: count, dtype: int64\n"
     ]
    }
   ],
   "source": [
    "# Check class distribution before applying SMOTE\n",
    "# balance is not bad but why not balance it\n",
    "print(\"Class distribution before SMOTE:\")\n",
    "print(y_train.value_counts())"
   ]
  },
  {
   "cell_type": "code",
   "execution_count": 387,
   "id": "6e0def83-c572-4c56-9e83-537e7ede01d2",
   "metadata": {},
   "outputs": [
    {
     "name": "stdout",
     "output_type": "stream",
     "text": [
      "Class distribution after SMOTE: target\n",
      "1    1075\n",
      "0    1075\n",
      "Name: count, dtype: int64\n"
     ]
    }
   ],
   "source": [
    "# Apply SMOTE to perfect the balance in class distribution\n",
    "smote = SMOTE(sampling_strategy='auto', random_state=42)\n",
    "X_train_res, y_train_res = smote.fit_resample(X_train, y_train)\n",
    "\n",
    "# Check the class distribution after applying SMOTE\n",
    "print(f\"Class distribution after SMOTE: {y_train_res.value_counts()}\")"
   ]
  },
  {
   "cell_type": "markdown",
   "id": "8369390e-a824-445b-9b7d-292bbcc20e8b",
   "metadata": {},
   "source": [
    "#### 5: Feature Scaling\n",
    "- Currently using the StandardScaler\n",
    "    - Can swap to a different scaler here when time permits\n",
    "    - something like: MinMaxScaler or RobustScaler\n",
    "- Scaling optimizes model performance by created consistent ranges in the data"
   ]
  },
  {
   "cell_type": "code",
   "execution_count": 390,
   "id": "07381ba2-5bc0-46d2-986f-e3bf6357b359",
   "metadata": {},
   "outputs": [],
   "source": [
    "# Scale the features using StandardScaler\n",
    "scaler = StandardScaler()"
   ]
  },
  {
   "cell_type": "code",
   "execution_count": 392,
   "id": "56e29692-86e8-49be-9d77-d513a9a50c4c",
   "metadata": {},
   "outputs": [],
   "source": [
    "# Fit and transform the training data, and transform the test data\n",
    "X_train_scaled = scaler.fit_transform(X_train_res)\n",
    "X_test_scaled = scaler.transform(X_test)"
   ]
  },
  {
   "cell_type": "code",
   "execution_count": 398,
   "id": "5efce4d6-4fc5-488e-8ce6-bf7004f336d2",
   "metadata": {},
   "outputs": [
    {
     "name": "stdout",
     "output_type": "stream",
     "text": [
      "First 5 rows of scaled training data:\n",
      "[[ 2.13110721  0.03531851  0.8143963   0.56786761  0.09294378  0.09167859\n",
      "  -0.45820035]\n",
      " [ 1.15722658 -0.93244254  0.32117468  0.23104401 -0.92370256 -0.89209491\n",
      "  -0.74802718]\n",
      " [-2.02346264 -0.66871053 -1.1485002  -1.16890297 -0.78573941 -0.91926356\n",
      "  -0.63486257]\n",
      " [-0.79330567  2.02157109 -1.1716956  -0.64842767  2.05734873  2.02517554\n",
      "   1.20320364]\n",
      " [ 0.14953347  0.78675016  0.09949341 -0.24620059  0.75162101  0.70188664\n",
      "   1.35025029]]\n"
     ]
    }
   ],
   "source": [
    "# Verify the scaled data\n",
    "print(\"First 5 rows of scaled training data:\")\n",
    "print(X_train_scaled[:5])"
   ]
  },
  {
   "cell_type": "markdown",
   "id": "1460bd5d-75d1-4179-a705-37cf4245f1b1",
   "metadata": {},
   "source": [
    "#### 6: Model Training\n",
    "- Select a model and train it\n",
    "- Default model : (RandomForestClassifier)"
   ]
  },
  {
   "cell_type": "code",
   "execution_count": 433,
   "id": "a2757abd-61fb-44b6-b157-e0151fc163c6",
   "metadata": {},
   "outputs": [],
   "source": [
    "# Dynamic Model Selection allows swapping models in an out for performance comparisons\n",
    "# args: #  model_name (str): The name of the model to use (e.g., \"random_forest\").\n",
    "        # X_train (np.array): Scaled training features.\n",
    "        # y_train (np.array): Training target labels.\n",
    "        # X_test (np.array): Scaled testing features.\n",
    "# Returns:\n",
    "        # model: Trained model instance.\n",
    "        # y_pred: Predictions on the test set.\n",
    "def train_model(model_name, X_train, y_train, X_test):\n",
    "    \"\"\"\n",
    "    Dynamically select, train, and evaluate a model.\n",
    "    \n",
    "    Args:\n",
    "        model_name (str): The name of the model to use (e.g., \"random_forest\").\n",
    "        X_train (np.array): Scaled training features.\n",
    "        y_train (np.array): Training target labels.\n",
    "        X_test (np.array): Scaled testing features.\n",
    "    \n",
    "    Returns:\n",
    "        model: Trained model instance.\n",
    "        y_pred: Predictions on the test set.\n",
    "    \"\"\"\n",
    "    # Define supported models\n",
    "    models = {\n",
    "        \"random_forest\": RandomForestClassifier(random_state=42),\n",
    "        \"logistic_regression\": LogisticRegression(random_state=42),\n",
    "        \"svm\": SVC(random_state=42),\n",
    "    }\n",
    "    \n",
    "    # Validate model_name\n",
    "    if model_name not in models:\n",
    "        raise ValueError(f\"Model '{model_name}' is not supported.\")\n",
    "    \n",
    "    # Get the selected model\n",
    "    model = models[model_name]\n",
    "    \n",
    "    # Train the model\n",
    "    model.fit(X_train, y_train)\n",
    "    print(f\"'{model_name}' training complete.\")\n",
    "    \n",
    "    # Make predictions\n",
    "    y_pred = model.predict(X_test)\n",
    "    print(f\"First 5 predictions for '{model_name}': {y_pred[:5]}\")\n",
    "    \n",
    "    return model, y_pred\n"
   ]
  },
  {
   "cell_type": "code",
   "execution_count": 435,
   "id": "e3adca1f-89af-4450-a10e-3c0fbebb64d8",
   "metadata": {},
   "outputs": [
    {
     "name": "stdout",
     "output_type": "stream",
     "text": [
      "(2150, 7) (2150,)\n"
     ]
    }
   ],
   "source": [
    "print(X_train_scaled.shape, y_train_res.shape)  # Ensure they match : allll goood"
   ]
  },
  {
   "cell_type": "code",
   "execution_count": 437,
   "id": "6ad9b1fb-37cf-4b7f-b4a6-92829b899ee6",
   "metadata": {},
   "outputs": [
    {
     "name": "stdout",
     "output_type": "stream",
     "text": [
      "Direct training successful. First 5 predictions: [0 1 0 0 0]\n"
     ]
    }
   ],
   "source": [
    "from sklearn.ensemble import RandomForestClassifier\n",
    "\n",
    "model = RandomForestClassifier(random_state=42)\n",
    "model.fit(X_train_scaled, y_train_res)  # Train the model\n",
    "y_pred = model.predict(X_test_scaled)  # Make predictions\n",
    "print(\"Direct training successful. First 5 predictions:\", y_pred[:5])\n"
   ]
  },
  {
   "cell_type": "code",
   "execution_count": 441,
   "id": "4e36a52d-d6fa-425e-b37c-62bc1398011e",
   "metadata": {},
   "outputs": [
    {
     "name": "stdout",
     "output_type": "stream",
     "text": [
      "'random_forest' training complete.\n",
      "First 5 predictions for 'random_forest': [0 1 0 0 0]\n"
     ]
    }
   ],
   "source": [
    "model_name = \"random_forest\"  # Try other models like \"logistic_regression\" or \"svm\"\n",
    "model, y_pred = train_model(model_name, X_train_scaled, y_train_res, X_test_scaled)\n"
   ]
  },
  {
   "cell_type": "markdown",
   "id": "69842f00-b458-44c5-80ce-8154d2d4e022",
   "metadata": {},
   "source": [
    "#### 7: Model Evaluation\n",
    "- Accuracy, classification report, confusion matrix, and ROC curve.\n",
    "- Implement additional/other metrics here\n",
    "    - perhaps precision-recall curve or F1 score analysis"
   ]
  },
  {
   "cell_type": "code",
   "execution_count": 445,
   "id": "032691dc-f8d2-4118-86a0-4181b5472506",
   "metadata": {},
   "outputs": [
    {
     "name": "stdout",
     "output_type": "stream",
     "text": [
      "Accuracy: 0.4571\n",
      "\n",
      "Classification Report:\n",
      "              precision    recall  f1-score   support\n",
      "\n",
      "           0       0.48      0.50      0.49       274\n",
      "           1       0.43      0.41      0.42       251\n",
      "\n",
      "    accuracy                           0.46       525\n",
      "   macro avg       0.46      0.46      0.46       525\n",
      "weighted avg       0.46      0.46      0.46       525\n",
      "\n",
      "\n",
      "Confusion Matrix:\n",
      "[[136 138]\n",
      " [147 104]]\n"
     ]
    }
   ],
   "source": [
    "# Accuracy, Classification, Confusion.\n",
    "accuracy = accuracy_score(y_test, y_pred)\n",
    "print(f\"Accuracy: {accuracy:.4f}\")\n",
    "\n",
    "print(\"\\nClassification Report:\")\n",
    "print(classification_report(y_test, y_pred))\n",
    "\n",
    "print(\"\\nConfusion Matrix:\")\n",
    "print(confusion_matrix(y_test, y_pred))"
   ]
  },
  {
   "cell_type": "markdown",
   "id": "71767f5d-dd67-4b14-b496-97b6335978f9",
   "metadata": {},
   "source": [
    "#### 8: Cross-Validation\n",
    "- Get an accurate view of model performance across multiple folds to reduce overfitting and signal noise"
   ]
  },
  {
   "cell_type": "code",
   "execution_count": null,
   "id": "6358a2c8-d952-4840-97d6-192167fcce45",
   "metadata": {},
   "outputs": [],
   "source": []
  }
 ],
 "metadata": {
  "kernelspec": {
   "display_name": "Python 3 (ipykernel)",
   "language": "python",
   "name": "python3"
  },
  "language_info": {
   "codemirror_mode": {
    "name": "ipython",
    "version": 3
   },
   "file_extension": ".py",
   "mimetype": "text/x-python",
   "name": "python",
   "nbconvert_exporter": "python",
   "pygments_lexer": "ipython3",
   "version": "3.12.4"
  }
 },
 "nbformat": 4,
 "nbformat_minor": 5
}
